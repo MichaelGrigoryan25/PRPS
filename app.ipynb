{
 "metadata": {
  "language_info": {
   "codemirror_mode": {
    "name": "ipython",
    "version": 3
   },
   "file_extension": ".py",
   "mimetype": "text/x-python",
   "name": "python",
   "nbconvert_exporter": "python",
   "pygments_lexer": "ipython3",
   "version": 3
  },
  "orig_nbformat": 2
 },
 "nbformat": 4,
 "nbformat_minor": 2,
 "cells": [
  {
   "cell_type": "code",
   "execution_count": null,
   "metadata": {},
   "outputs": [],
   "source": [
    "import random"
   ]
  },
  {
   "cell_type": "code",
   "execution_count": null,
   "metadata": {},
   "outputs": [],
   "source": [
    "OptionsList = ['rock', 'paper', 'scissors']\n",
    "CPUOption = random.choice(OptionsList)\n",
    "line = \"_______________________\"\n",
    "\n",
    "UserInput = input(\"Choose an Option: \" + str(OptionsList))\n",
    "\n",
    "if UserInput == \"rock\" and CPUOption == \"paper\":\n",
    "    print(line)\n",
    "    print(CPUOption + \"\\nYou Lost\")\n",
    "elif UserInput == \"paper\" and CPUOption == \"scissors\":\n",
    "    print(line)\n",
    "    print(CPUOption + \"\\nYou Lost\")\n",
    "elif UserInput == \"scissors\" and CPUOption == \"rock\":\n",
    "    print(line)\n",
    "    print(CPUOption + \"\\nYou Lost\")\n",
    "elif UserInput == CPUOption:\n",
    "    print(line)\n",
    "    print(\"DRAW!\")\n",
    "else:\n",
    "    print(line + \"\\nCPU chose: \" + CPUOption)\n",
    "    print(\"You won!\")"
   ]
  }
 ]
}