{
 "metadata": {
  "language_info": {
   "codemirror_mode": {
    "name": "ipython",
    "version": 3
   },
   "file_extension": ".py",
   "mimetype": "text/x-python",
   "name": "python",
   "nbconvert_exporter": "python",
   "pygments_lexer": "ipython3",
   "version": 3
  },
  "orig_nbformat": 2
 },
 "nbformat": 4,
 "nbformat_minor": 2,
 "cells": [
  {
   "cell_type": "code",
   "execution_count": null,
   "metadata": {},
   "outputs": [],
   "source": [
    "import random"
   ]
  },
  {
   "cell_type": "code",
   "execution_count": null,
   "metadata": {},
   "outputs": [],
   "source": [
    "OptionsList = ['rock', 'paper', 'scissors']\n",
    "CPUOption = random.choice(ChoiceList)\n",
    "\n",
    "UserInput = input(\"Choose an Option: \" + OptionsList)\n",
    "\n",
    "if UserInput == \"rock\" and CPUOption == \"paper\":\n",
    "    print(CPUOption + \"You Lost\")\n",
    "elif UserInput == \"paper\" and CPUOption == \"scissors\":\n",
    "    print(CPUOption + \"You Lost\")\n",
    "elif UserInput == \"scissors\" and CPUOption == \"rock\":\n",
    "    print(CPUOption + \"You Lost\")\n",
    "elif UserInput == CPUOption:\n",
    "    print(\"DRAW!\")\n",
    "else:\n",
    "    print(\"CPU chose: \" + CPUOption + /n\"You Won!\")"
   ]
  }
 ]
}